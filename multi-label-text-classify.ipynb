{
 "cells": [
  {
   "cell_type": "markdown",
   "metadata": {},
   "source": [
    "## Multi-Label Text Classification"
   ]
  },
  {
   "cell_type": "markdown",
   "metadata": {},
   "source": [
    "### Kaggle link to the problem can be found [here](https://www.kaggle.com/c/jigsaw-toxic-comment-classification-challenge)"
   ]
  },
  {
   "cell_type": "markdown",
   "metadata": {},
   "source": [
    "### 1. Exploratory Data Analysis"
   ]
  },
  {
   "cell_type": "code",
   "execution_count": 1,
   "metadata": {},
   "outputs": [],
   "source": [
    "import os\n",
    "import csv\n",
    "import pandas as pd\n",
    "import numpy as np\n",
    "import matplotlib.pyplot as plt\n",
    "import seaborn as sns"
   ]
  },
  {
   "cell_type": "code",
   "execution_count": 2,
   "metadata": {},
   "outputs": [
    {
     "data": {
      "text/plain": [
       "(159571, 8)"
      ]
     },
     "execution_count": 2,
     "metadata": {},
     "output_type": "execute_result"
    }
   ],
   "source": [
    "# Loading the data\n",
    "df=pd.read_csv('data.csv')\n",
    "df.shape"
   ]
  },
  {
   "cell_type": "code",
   "execution_count": 4,
   "metadata": {},
   "outputs": [
    {
     "name": "stdout",
     "output_type": "stream",
     "text": [
      "Number of samples in training data: 159571\n",
      "Number of features in training data: 8\n",
      "Sample data:\n"
     ]
    },
    {
     "data": {
      "text/html": [
       "<div>\n",
       "<style scoped>\n",
       "    .dataframe tbody tr th:only-of-type {\n",
       "        vertical-align: middle;\n",
       "    }\n",
       "\n",
       "    .dataframe tbody tr th {\n",
       "        vertical-align: top;\n",
       "    }\n",
       "\n",
       "    .dataframe thead th {\n",
       "        text-align: right;\n",
       "    }\n",
       "</style>\n",
       "<table border=\"1\" class=\"dataframe\">\n",
       "  <thead>\n",
       "    <tr style=\"text-align: right;\">\n",
       "      <th></th>\n",
       "      <th>id</th>\n",
       "      <th>comment_text</th>\n",
       "      <th>toxic</th>\n",
       "      <th>severe_toxic</th>\n",
       "      <th>obscene</th>\n",
       "      <th>threat</th>\n",
       "      <th>insult</th>\n",
       "      <th>identity_hate</th>\n",
       "    </tr>\n",
       "  </thead>\n",
       "  <tbody>\n",
       "    <tr>\n",
       "      <th>0</th>\n",
       "      <td>0000997932d777bf</td>\n",
       "      <td>Explanation\\nWhy the edits made under my usern...</td>\n",
       "      <td>0</td>\n",
       "      <td>0</td>\n",
       "      <td>0</td>\n",
       "      <td>0</td>\n",
       "      <td>0</td>\n",
       "      <td>0</td>\n",
       "    </tr>\n",
       "    <tr>\n",
       "      <th>1</th>\n",
       "      <td>000103f0d9cfb60f</td>\n",
       "      <td>D'aww! He matches this background colour I'm s...</td>\n",
       "      <td>0</td>\n",
       "      <td>0</td>\n",
       "      <td>0</td>\n",
       "      <td>0</td>\n",
       "      <td>0</td>\n",
       "      <td>0</td>\n",
       "    </tr>\n",
       "    <tr>\n",
       "      <th>2</th>\n",
       "      <td>000113f07ec002fd</td>\n",
       "      <td>Hey man, I'm really not trying to edit war. It...</td>\n",
       "      <td>0</td>\n",
       "      <td>0</td>\n",
       "      <td>0</td>\n",
       "      <td>0</td>\n",
       "      <td>0</td>\n",
       "      <td>0</td>\n",
       "    </tr>\n",
       "    <tr>\n",
       "      <th>3</th>\n",
       "      <td>0001b41b1c6bb37e</td>\n",
       "      <td>\"\\nMore\\nI can't make any real suggestions on ...</td>\n",
       "      <td>0</td>\n",
       "      <td>0</td>\n",
       "      <td>0</td>\n",
       "      <td>0</td>\n",
       "      <td>0</td>\n",
       "      <td>0</td>\n",
       "    </tr>\n",
       "    <tr>\n",
       "      <th>4</th>\n",
       "      <td>0001d958c54c6e35</td>\n",
       "      <td>You, sir, are my hero. Any chance you remember...</td>\n",
       "      <td>0</td>\n",
       "      <td>0</td>\n",
       "      <td>0</td>\n",
       "      <td>0</td>\n",
       "      <td>0</td>\n",
       "      <td>0</td>\n",
       "    </tr>\n",
       "  </tbody>\n",
       "</table>\n",
       "</div>"
      ],
      "text/plain": [
       "                 id                                       comment_text  toxic  \\\n",
       "0  0000997932d777bf  Explanation\\nWhy the edits made under my usern...      0   \n",
       "1  000103f0d9cfb60f  D'aww! He matches this background colour I'm s...      0   \n",
       "2  000113f07ec002fd  Hey man, I'm really not trying to edit war. It...      0   \n",
       "3  0001b41b1c6bb37e  \"\\nMore\\nI can't make any real suggestions on ...      0   \n",
       "4  0001d958c54c6e35  You, sir, are my hero. Any chance you remember...      0   \n",
       "\n",
       "   severe_toxic  obscene  threat  insult  identity_hate  \n",
       "0             0        0       0       0              0  \n",
       "1             0        0       0       0              0  \n",
       "2             0        0       0       0              0  \n",
       "3             0        0       0       0              0  \n",
       "4             0        0       0       0              0  "
      ]
     },
     "execution_count": 4,
     "metadata": {},
     "output_type": "execute_result"
    }
   ],
   "source": [
    "print('Number of samples in training data:',df.shape[0])\n",
    "print('Number of features in training data:',df.shape[1])\n",
    "print('Sample data:')\n",
    "df.head()"
   ]
  },
  {
   "cell_type": "code",
   "execution_count": 5,
   "metadata": {},
   "outputs": [
    {
     "name": "stdout",
     "output_type": "stream",
     "text": [
      "id               0\n",
      "comment_text     0\n",
      "toxic            0\n",
      "severe_toxic     0\n",
      "obscene          0\n",
      "threat           0\n",
      "insult           0\n",
      "identity_hate    0\n",
      "dtype: int64\n"
     ]
    }
   ],
   "source": [
    "# Checking for missing values\n",
    "missing_val_check=df.isnull().sum()\n",
    "print(missing_val_check)"
   ]
  },
  {
   "cell_type": "code",
   "execution_count": 7,
   "metadata": {},
   "outputs": [
    {
     "name": "stdout",
     "output_type": "stream",
     "text": [
      "Total no. of comments: 159571\n",
      "No. of clean comments: 143346\n",
      "No. of comments with labels: 16225\n"
     ]
    }
   ],
   "source": [
    "# Calculating number of comments under each label\n",
    "# Comments with no label are considered clean\n",
    "\n",
    "rowSums=df.iloc[:,2:].sum(axis=1)\n",
    "clean_comments_count=(rowSums==0).sum(axis=0)\n",
    "\n",
    "print('Total no. of comments:', len(df))\n",
    "print('No. of clean comments:',clean_comments_count)\n",
    "print('No. of comments with labels:',len(df)-clean_comments_count)"
   ]
  },
  {
   "cell_type": "code",
   "execution_count": 8,
   "metadata": {},
   "outputs": [
    {
     "name": "stdout",
     "output_type": "stream",
     "text": [
      "['toxic', 'severe_toxic', 'obscene', 'threat', 'insult', 'identity_hate']\n"
     ]
    }
   ],
   "source": [
    "categories=list(df.columns.values)\n",
    "categories=categories[2:]\n",
    "print(categories)"
   ]
  },
  {
   "cell_type": "code",
   "execution_count": 9,
   "metadata": {},
   "outputs": [
    {
     "data": {
      "text/html": [
       "<div>\n",
       "<style scoped>\n",
       "    .dataframe tbody tr th:only-of-type {\n",
       "        vertical-align: middle;\n",
       "    }\n",
       "\n",
       "    .dataframe tbody tr th {\n",
       "        vertical-align: top;\n",
       "    }\n",
       "\n",
       "    .dataframe thead th {\n",
       "        text-align: right;\n",
       "    }\n",
       "</style>\n",
       "<table border=\"1\" class=\"dataframe\">\n",
       "  <thead>\n",
       "    <tr style=\"text-align: right;\">\n",
       "      <th></th>\n",
       "      <th>category</th>\n",
       "      <th>No. of comments</th>\n",
       "    </tr>\n",
       "  </thead>\n",
       "  <tbody>\n",
       "    <tr>\n",
       "      <th>0</th>\n",
       "      <td>toxic</td>\n",
       "      <td>15294</td>\n",
       "    </tr>\n",
       "    <tr>\n",
       "      <th>1</th>\n",
       "      <td>severe_toxic</td>\n",
       "      <td>1595</td>\n",
       "    </tr>\n",
       "    <tr>\n",
       "      <th>2</th>\n",
       "      <td>obscene</td>\n",
       "      <td>8449</td>\n",
       "    </tr>\n",
       "    <tr>\n",
       "      <th>3</th>\n",
       "      <td>threat</td>\n",
       "      <td>478</td>\n",
       "    </tr>\n",
       "    <tr>\n",
       "      <th>4</th>\n",
       "      <td>insult</td>\n",
       "      <td>7877</td>\n",
       "    </tr>\n",
       "    <tr>\n",
       "      <th>5</th>\n",
       "      <td>identity_hate</td>\n",
       "      <td>1405</td>\n",
       "    </tr>\n",
       "  </tbody>\n",
       "</table>\n",
       "</div>"
      ],
      "text/plain": [
       "        category  No. of comments\n",
       "0          toxic            15294\n",
       "1   severe_toxic             1595\n",
       "2        obscene             8449\n",
       "3         threat              478\n",
       "4         insult             7877\n",
       "5  identity_hate             1405"
      ]
     },
     "execution_count": 9,
     "metadata": {},
     "output_type": "execute_result"
    }
   ],
   "source": [
    "# Calculating number of comments in each category\n",
    "counts=[]\n",
    "for cat in categories:\n",
    "    counts.append((cat, df[cat].sum()))\n",
    "df_stats=pd.DataFrame(counts, columns=['category', 'No. of comments'])\n",
    "df_stats"
   ]
  },
  {
   "cell_type": "code",
   "execution_count": 11,
   "metadata": {},
   "outputs": [
    {
     "data": {
      "image/png": "[encoded data removed]",
      "text/plain": [
       "<matplotlib.figure.Figure at 0x14071d010b8>"
      ]
     },
     "metadata": {},
     "output_type": "display_data"
    }
   ],
   "source": [
    "# plotting the number of comments in each category\n",
    "sns.set(font_scale=2)\n",
    "plt.figure(figsize=(15,8))\n",
    "ax=sns.barplot(categories, df.iloc[:,2:].sum().values)\n",
    "\n",
    "plt.title('Comments in each category', fontsize=24)\n",
    "plt.ylabel('Number of comments', fontsize=18)\n",
    "plt.xlabel('Comment Type', fontsize=18)\n",
    "\n",
    "# adding the text labels\n",
    "rects=ax.patches\n",
    "labels=df.iloc[:,2:].sum().values\n",
    "for rect, label in zip(rects, labels):\n",
    "    ax.text((rect.get_x()+rect.get_width()/2), rect.get_height()+5, label, ha='center', va='bottom', fontsize=18)\n",
    "plt.show()  "
   ]
  },
  {
   "cell_type": "code",
   "execution_count": 12,
   "metadata": {},
   "outputs": [
    {
     "data": {
      "image/png": "[encoded data removed]",
      "text/plain": [
       "<matplotlib.figure.Figure at 0x14071f7a940>"
      ]
     },
     "metadata": {},
     "output_type": "display_data"
    }
   ],
   "source": [
    "# Calculating number of comments having multiple labels\n",
    "rowSums=df.iloc[:,2:].sum(axis=1)\n",
    "multilabel_counts=rowSums.value_counts()\n",
    "multilabel_counts=multilabel_counts.iloc[1:]\n",
    "\n",
    "sns.set(font_scale=2)\n",
    "plt.figure(figsize=(15,8))\n",
    "\n",
    "ax=sns.barplot(multilabel_counts.index, multilabel_counts.values)\n",
    "\n",
    "plt.title('Comments having multiple labels')\n",
    "plt.ylabel('Number of comments', fontsize=18)\n",
    "plt.xlabel('Number of labels', fontsize=18)\n",
    "\n",
    "# adding the text labels\n",
    "rects=ax.patches\n",
    "labels=multilabel_counts.values\n",
    "for rect, label in zip(rects, labels):\n",
    "    ax.text((rect.get_x()+rect.get_width()/2), rect.get_height()+5, label, ha='center', va='bottom')\n",
    "plt.show()"
   ]
  },
  {
   "cell_type": "markdown",
   "metadata": {},
   "source": [
    "### 2. Data Preprocessing"
   ]
  },
  {
   "cell_type": "code",
   "execution_count": 13,
   "metadata": {},
   "outputs": [],
   "source": [
    "import re\n",
    "import sys\n",
    "import warnings\n",
    "import nltk\n",
    "from nltk.corpus import stopwords\n",
    "from nltk.stem.snowball import SnowballStemmer"
   ]
  },
  {
   "cell_type": "code",
   "execution_count": 16,
   "metadata": {},
   "outputs": [],
   "source": [
    "if not sys.warnoptions:\n",
    "    warnings.simplefilter('ignore')\n",
    "\n",
    "# Functions for cleaning the data\n",
    "def cleanHTML(sentence):\n",
    "    \"\"\" To remove html tags \"\"\"\n",
    "    cleanr=re.compile('<.*?>')\n",
    "    cleantext=re.sub(cleanr, ' ', str(sentence))\n",
    "    return cleantext\n",
    "\n",
    "def cleanPunc(sentence):\n",
    "    \"\"\" To remove punctuations and special characters \"\"\"\n",
    "    cleaned=re.sub(r'[?|!|\\'|\"|#]', r'', sentence)\n",
    "    cleaned=re.sub(r'[.|,|)|(|\\|/]', r' ', sentence)\n",
    "    cleaned=cleaned.strip()\n",
    "    cleaned=cleaned.replace('\\n',' ')\n",
    "    return cleaned\n",
    "\n",
    "def keepAlpha(sentence):\n",
    "    \"\"\" To remove non-alphabetic characters \"\"\"\n",
    "    alpha_sent=''\n",
    "    for word in sentence.split():\n",
    "        alpha_word=re.sub('[^a-z A-Z]+', ' ', word)\n",
    "        alpha_sent+=alpha_word\n",
    "        alpha_sent+=' '\n",
    "    alpha_sent=alpha_sent.strip()\n",
    "    return alpha_sent    "
   ]
  },
  {
   "cell_type": "code",
   "execution_count": 20,
   "metadata": {},
   "outputs": [
    {
     "data": {
      "text/html": [
       "<div>\n",
       "<style scoped>\n",
       "    .dataframe tbody tr th:only-of-type {\n",
       "        vertical-align: middle;\n",
       "    }\n",
       "\n",
       "    .dataframe tbody tr th {\n",
       "        vertical-align: top;\n",
       "    }\n",
       "\n",
       "    .dataframe thead th {\n",
       "        text-align: right;\n",
       "    }\n",
       "</style>\n",
       "<table border=\"1\" class=\"dataframe\">\n",
       "  <thead>\n",
       "    <tr style=\"text-align: right;\">\n",
       "      <th></th>\n",
       "      <th>id</th>\n",
       "      <th>comment_text</th>\n",
       "      <th>toxic</th>\n",
       "      <th>severe_toxic</th>\n",
       "      <th>obscene</th>\n",
       "      <th>threat</th>\n",
       "      <th>insult</th>\n",
       "      <th>identity_hate</th>\n",
       "    </tr>\n",
       "  </thead>\n",
       "  <tbody>\n",
       "    <tr>\n",
       "      <th>138177</th>\n",
       "      <td>e36b1255411443dd</td>\n",
       "      <td>nicholas v r mess page was just fine and dandy...</td>\n",
       "      <td>0</td>\n",
       "      <td>0</td>\n",
       "      <td>0</td>\n",
       "      <td>0</td>\n",
       "      <td>0</td>\n",
       "      <td>0</td>\n",
       "    </tr>\n",
       "    <tr>\n",
       "      <th>57214</th>\n",
       "      <td>98fa7d53b4763922</td>\n",
       "      <td>not if the election was fraudulent</td>\n",
       "      <td>0</td>\n",
       "      <td>0</td>\n",
       "      <td>0</td>\n",
       "      <td>0</td>\n",
       "      <td>0</td>\n",
       "      <td>0</td>\n",
       "    </tr>\n",
       "    <tr>\n",
       "      <th>70093</th>\n",
       "      <td>bb8388e3336e1b36</td>\n",
       "      <td>anybody it s still unsourced and still looks a...</td>\n",
       "      <td>0</td>\n",
       "      <td>0</td>\n",
       "      <td>0</td>\n",
       "      <td>0</td>\n",
       "      <td>0</td>\n",
       "      <td>0</td>\n",
       "    </tr>\n",
       "    <tr>\n",
       "      <th>122997</th>\n",
       "      <td>91fed76798609d74</td>\n",
       "      <td>futper between your editting history and your ...</td>\n",
       "      <td>0</td>\n",
       "      <td>0</td>\n",
       "      <td>0</td>\n",
       "      <td>0</td>\n",
       "      <td>0</td>\n",
       "      <td>0</td>\n",
       "    </tr>\n",
       "    <tr>\n",
       "      <th>34706</th>\n",
       "      <td>5cb3656f7485d425</td>\n",
       "      <td>economic policies neutral i wonder about the n...</td>\n",
       "      <td>0</td>\n",
       "      <td>0</td>\n",
       "      <td>0</td>\n",
       "      <td>0</td>\n",
       "      <td>0</td>\n",
       "      <td>0</td>\n",
       "    </tr>\n",
       "  </tbody>\n",
       "</table>\n",
       "</div>"
      ],
      "text/plain": [
       "                      id                                       comment_text  \\\n",
       "138177  e36b1255411443dd  nicholas v r mess page was just fine and dandy...   \n",
       "57214   98fa7d53b4763922                 not if the election was fraudulent   \n",
       "70093   bb8388e3336e1b36  anybody it s still unsourced and still looks a...   \n",
       "122997  91fed76798609d74  futper between your editting history and your ...   \n",
       "34706   5cb3656f7485d425  economic policies neutral i wonder about the n...   \n",
       "\n",
       "        toxic  severe_toxic  obscene  threat  insult  identity_hate  \n",
       "138177      0             0        0       0       0              0  \n",
       "57214       0             0        0       0       0              0  \n",
       "70093       0             0        0       0       0              0  \n",
       "122997      0             0        0       0       0              0  \n",
       "34706       0             0        0       0       0              0  "
      ]
     },
     "execution_count": 20,
     "metadata": {},
     "output_type": "execute_result"
    }
   ],
   "source": [
    "# Using a random subset of data\n",
    "df=df.loc[np.random.choice(df.index, size=2000)]\n",
    "df['comment_text']=df['comment_text'].str.lower().apply(cleanHTML).apply(cleanPunc).apply(keepAlpha)\n",
    "df.head()"
   ]
  },
  {
   "cell_type": "code",
   "execution_count": 22,
   "metadata": {},
   "outputs": [
    {
     "data": {
      "text/html": [
       "<div>\n",
       "<style scoped>\n",
       "    .dataframe tbody tr th:only-of-type {\n",
       "        vertical-align: middle;\n",
       "    }\n",
       "\n",
       "    .dataframe tbody tr th {\n",
       "        vertical-align: top;\n",
       "    }\n",
       "\n",
       "    .dataframe thead th {\n",
       "        text-align: right;\n",
       "    }\n",
       "</style>\n",
       "<table border=\"1\" class=\"dataframe\">\n",
       "  <thead>\n",
       "    <tr style=\"text-align: right;\">\n",
       "      <th></th>\n",
       "      <th>id</th>\n",
       "      <th>comment_text</th>\n",
       "      <th>toxic</th>\n",
       "      <th>severe_toxic</th>\n",
       "      <th>obscene</th>\n",
       "      <th>threat</th>\n",
       "      <th>insult</th>\n",
       "      <th>identity_hate</th>\n",
       "    </tr>\n",
       "  </thead>\n",
       "  <tbody>\n",
       "    <tr>\n",
       "      <th>138177</th>\n",
       "      <td>e36b1255411443dd</td>\n",
       "      <td>nicholas v r mess page   fine  dandy  couple d...</td>\n",
       "      <td>0</td>\n",
       "      <td>0</td>\n",
       "      <td>0</td>\n",
       "      <td>0</td>\n",
       "      <td>0</td>\n",
       "      <td>0</td>\n",
       "    </tr>\n",
       "    <tr>\n",
       "      <th>57214</th>\n",
       "      <td>98fa7d53b4763922</td>\n",
       "      <td>election  fraudulent</td>\n",
       "      <td>0</td>\n",
       "      <td>0</td>\n",
       "      <td>0</td>\n",
       "      <td>0</td>\n",
       "      <td>0</td>\n",
       "      <td>0</td>\n",
       "    </tr>\n",
       "    <tr>\n",
       "      <th>70093</th>\n",
       "      <td>bb8388e3336e1b36</td>\n",
       "      <td>anybody   still unsourced  still looks  bit wi...</td>\n",
       "      <td>0</td>\n",
       "      <td>0</td>\n",
       "      <td>0</td>\n",
       "      <td>0</td>\n",
       "      <td>0</td>\n",
       "      <td>0</td>\n",
       "    </tr>\n",
       "    <tr>\n",
       "      <th>122997</th>\n",
       "      <td>91fed76798609d74</td>\n",
       "      <td>futper   editting history   negative stereotyp...</td>\n",
       "      <td>0</td>\n",
       "      <td>0</td>\n",
       "      <td>0</td>\n",
       "      <td>0</td>\n",
       "      <td>0</td>\n",
       "      <td>0</td>\n",
       "    </tr>\n",
       "    <tr>\n",
       "      <th>34706</th>\n",
       "      <td>5cb3656f7485d425</td>\n",
       "      <td>economic policies neutral  wonder   neutrality...</td>\n",
       "      <td>0</td>\n",
       "      <td>0</td>\n",
       "      <td>0</td>\n",
       "      <td>0</td>\n",
       "      <td>0</td>\n",
       "      <td>0</td>\n",
       "    </tr>\n",
       "  </tbody>\n",
       "</table>\n",
       "</div>"
      ],
      "text/plain": [
       "                      id                                       comment_text  \\\n",
       "138177  e36b1255411443dd  nicholas v r mess page   fine  dandy  couple d...   \n",
       "57214   98fa7d53b4763922                               election  fraudulent   \n",
       "70093   bb8388e3336e1b36  anybody   still unsourced  still looks  bit wi...   \n",
       "122997  91fed76798609d74  futper   editting history   negative stereotyp...   \n",
       "34706   5cb3656f7485d425  economic policies neutral  wonder   neutrality...   \n",
       "\n",
       "        toxic  severe_toxic  obscene  threat  insult  identity_hate  \n",
       "138177      0             0        0       0       0              0  \n",
       "57214       0             0        0       0       0              0  \n",
       "70093       0             0        0       0       0              0  \n",
       "122997      0             0        0       0       0              0  \n",
       "34706       0             0        0       0       0              0  "
      ]
     },
     "execution_count": 22,
     "metadata": {},
     "output_type": "execute_result"
    }
   ],
   "source": [
    "# Removing stop words\n",
    "stop_words=set(stopwords.words('english'))\n",
    "stop_words.update(['zero','one','two','three','four','five','six','seven',\n",
    "                   'eight','nine','ten','may','also','across','among','beside','however','yet','within'])\n",
    "re_stop_words=re.compile(r'\\b('+'|'.join(stop_words)+')\\\\W',re.I)\n",
    "\n",
    "def removeStopWords(sentence):\n",
    "    global re_stop_words\n",
    "    return re_stop_words.sub(' ', sentence)\n",
    "\n",
    "df['comment_text']=df['comment_text'].apply(removeStopWords)\n",
    "df.head()"
   ]
  },
  {
   "cell_type": "code",
   "execution_count": 24,
   "metadata": {},
   "outputs": [
    {
     "data": {
      "text/html": [
       "<div>\n",
       "<style scoped>\n",
       "    .dataframe tbody tr th:only-of-type {\n",
       "        vertical-align: middle;\n",
       "    }\n",
       "\n",
       "    .dataframe tbody tr th {\n",
       "        vertical-align: top;\n",
       "    }\n",
       "\n",
       "    .dataframe thead th {\n",
       "        text-align: right;\n",
       "    }\n",
       "</style>\n",
       "<table border=\"1\" class=\"dataframe\">\n",
       "  <thead>\n",
       "    <tr style=\"text-align: right;\">\n",
       "      <th></th>\n",
       "      <th>id</th>\n",
       "      <th>comment_text</th>\n",
       "      <th>toxic</th>\n",
       "      <th>severe_toxic</th>\n",
       "      <th>obscene</th>\n",
       "      <th>threat</th>\n",
       "      <th>insult</th>\n",
       "      <th>identity_hate</th>\n",
       "    </tr>\n",
       "  </thead>\n",
       "  <tbody>\n",
       "    <tr>\n",
       "      <th>138177</th>\n",
       "      <td>e36b1255411443dd</td>\n",
       "      <td>nichola v r mess page fine dandi coupl day ago...</td>\n",
       "      <td>0</td>\n",
       "      <td>0</td>\n",
       "      <td>0</td>\n",
       "      <td>0</td>\n",
       "      <td>0</td>\n",
       "      <td>0</td>\n",
       "    </tr>\n",
       "    <tr>\n",
       "      <th>57214</th>\n",
       "      <td>98fa7d53b4763922</td>\n",
       "      <td>elect fraudul elect fraudul</td>\n",
       "      <td>0</td>\n",
       "      <td>0</td>\n",
       "      <td>0</td>\n",
       "      <td>0</td>\n",
       "      <td>0</td>\n",
       "      <td>0</td>\n",
       "    </tr>\n",
       "    <tr>\n",
       "      <th>70093</th>\n",
       "      <td>bb8388e3336e1b36</td>\n",
       "      <td>anybodi still unsourc still look bit wierd way...</td>\n",
       "      <td>0</td>\n",
       "      <td>0</td>\n",
       "      <td>0</td>\n",
       "      <td>0</td>\n",
       "      <td>0</td>\n",
       "      <td>0</td>\n",
       "    </tr>\n",
       "    <tr>\n",
       "      <th>122997</th>\n",
       "      <td>91fed76798609d74</td>\n",
       "      <td>futper edit histori negat stereotyp comment gr...</td>\n",
       "      <td>0</td>\n",
       "      <td>0</td>\n",
       "      <td>0</td>\n",
       "      <td>0</td>\n",
       "      <td>0</td>\n",
       "      <td>0</td>\n",
       "    </tr>\n",
       "    <tr>\n",
       "      <th>34706</th>\n",
       "      <td>5cb3656f7485d425</td>\n",
       "      <td>econom polici neutral wonder neutral statement...</td>\n",
       "      <td>0</td>\n",
       "      <td>0</td>\n",
       "      <td>0</td>\n",
       "      <td>0</td>\n",
       "      <td>0</td>\n",
       "      <td>0</td>\n",
       "    </tr>\n",
       "  </tbody>\n",
       "</table>\n",
       "</div>"
      ],
      "text/plain": [
       "                      id                                       comment_text  \\\n",
       "138177  e36b1255411443dd  nichola v r mess page fine dandi coupl day ago...   \n",
       "57214   98fa7d53b4763922                        elect fraudul elect fraudul   \n",
       "70093   bb8388e3336e1b36  anybodi still unsourc still look bit wierd way...   \n",
       "122997  91fed76798609d74  futper edit histori negat stereotyp comment gr...   \n",
       "34706   5cb3656f7485d425  econom polici neutral wonder neutral statement...   \n",
       "\n",
       "        toxic  severe_toxic  obscene  threat  insult  identity_hate  \n",
       "138177      0             0        0       0       0              0  \n",
       "57214       0             0        0       0       0              0  \n",
       "70093       0             0        0       0       0              0  \n",
       "122997      0             0        0       0       0              0  \n",
       "34706       0             0        0       0       0              0  "
      ]
     },
     "execution_count": 24,
     "metadata": {},
     "output_type": "execute_result"
    }
   ],
   "source": [
    "# Stemming\n",
    "stemmer=SnowballStemmer('english')\n",
    "def stemming(sentence):\n",
    "    stemSentence=''\n",
    "    for word in sentence.split():\n",
    "        stem=stemmer.stem(word)\n",
    "        stemSentence+=stem\n",
    "        stemSentence+=' '\n",
    "    stemSentence+=stemSentence.strip()\n",
    "    return stemSentence\n",
    "df['comment_text']=df['comment_text'].apply(stemming)\n",
    "df.head()"
   ]
  },
  {
   "cell_type": "code",
   "execution_count": 25,
   "metadata": {},
   "outputs": [
    {
     "name": "stdout",
     "output_type": "stream",
     "text": [
      "(1400, 8)\n",
      "(600, 8)\n"
     ]
    }
   ],
   "source": [
    "# performing train-test split\n",
    "from sklearn.model_selection import train_test_split\n",
    "train, test=train_test_split(df, random_state=42, test_size=0.3, shuffle=True)\n",
    "print(train.shape)\n",
    "print(test.shape)"
   ]
  },
  {
   "cell_type": "code",
   "execution_count": 26,
   "metadata": {},
   "outputs": [],
   "source": [
    "train_text=train['comment_text']\n",
    "test_text=test['comment_text']"
   ]
  },
  {
   "cell_type": "code",
   "execution_count": 27,
   "metadata": {},
   "outputs": [
    {
     "data": {
      "text/plain": [
       "TfidfVectorizer(analyzer='word', binary=False, decode_error='strict',\n",
       "        dtype=<class 'numpy.int64'>, encoding='utf-8', input='content',\n",
       "        lowercase=True, max_df=1.0, max_features=None, min_df=1,\n",
       "        ngram_range=(1, 3), norm='l2', preprocessor=None, smooth_idf=True,\n",
       "        stop_words=None, strip_accents='unicode', sublinear_tf=False,\n",
       "        token_pattern='(?u)\\\\b\\\\w\\\\w+\\\\b', tokenizer=None, use_idf=True,\n",
       "        vocabulary=None)"
      ]
     },
     "execution_count": 27,
     "metadata": {},
     "output_type": "execute_result"
    }
   ],
   "source": [
    "# making numerical vectors from comments using tf-idf\n",
    "from sklearn.feature_extraction.text import TfidfVectorizer\n",
    "vectorizer=TfidfVectorizer(strip_accents='unicode', analyzer='word', ngram_range=(1,3), norm='l2')\n",
    "vectorizer.fit(train_text)\n",
    "vectorizer.fit(test_text)"
   ]
  },
  {
   "cell_type": "code",
   "execution_count": 28,
   "metadata": {},
   "outputs": [],
   "source": [
    "x_train=vectorizer.transform(train_text)\n",
    "y_train=train.drop(labels=['id','comment_text'],axis=1)\n",
    "x_test=vectorizer.transform(test_text)\n",
    "y_test=test.drop(labels=['id','comment_text'],axis=1)"
   ]
  },
  {
   "cell_type": "markdown",
   "metadata": {},
   "source": [
    "### 3. Multi-Label Classification"
   ]
  },
  {
   "cell_type": "markdown",
   "metadata": {},
   "source": [
    "#### Multiple Binary Classifications (One vs Rest)"
   ]
  },
  {
   "cell_type": "code",
   "execution_count": 29,
   "metadata": {},
   "outputs": [],
   "source": [
    "from sklearn.linear_model import LogisticRegression\n",
    "from sklearn.pipeline import Pipeline\n",
    "from sklearn.metrics import accuracy_score\n",
    "from sklearn.multiclass import OneVsRestClassifier"
   ]
  },
  {
   "cell_type": "code",
   "execution_count": 30,
   "metadata": {},
   "outputs": [
    {
     "name": "stdout",
     "output_type": "stream",
     "text": [
      "Processing toxic comments...\n",
      "Test accuracy is 0.91\n",
      "\n",
      "\n",
      "Processing severe_toxic comments...\n",
      "Test accuracy is 0.991666666667\n",
      "\n",
      "\n",
      "Processing obscene comments...\n",
      "Test accuracy is 0.943333333333\n",
      "\n",
      "\n",
      "Processing threat comments...\n",
      "Test accuracy is 1.0\n",
      "\n",
      "\n",
      "Processing insult comments...\n",
      "Test accuracy is 0.948333333333\n",
      "\n",
      "\n",
      "Processing identity_hate comments...\n",
      "Test accuracy is 0.991666666667\n",
      "\n",
      "\n"
     ]
    }
   ],
   "source": [
    "# Using pipeline for applying logistic regression and OvR Classifier\n",
    "LogReg_pipeline=Pipeline([('clf',OneVsRestClassifier(LogisticRegression(solver='sag'),n_jobs=-1)),])\n",
    "\n",
    "for cat in categories:\n",
    "    print('Processing',cat,'comments...')\n",
    "    # Training model\n",
    "    LogReg_pipeline.fit(x_train, train[cat])\n",
    "    # Calculating test accuracy\n",
    "    prediction=LogReg_pipeline.predict(x_test)\n",
    "    print('Test accuracy is',accuracy_score(test[cat], prediction))\n",
    "    print('\\n')"
   ]
  },
  {
   "cell_type": "markdown",
   "metadata": {},
   "source": [
    "#### Multiple Binary Classification - (Binary Relevance)"
   ]
  },
  {
   "cell_type": "code",
   "execution_count": 31,
   "metadata": {},
   "outputs": [
    {
     "name": "stdout",
     "output_type": "stream",
     "text": [
      "Accuracy = 0.885\n",
      "\n",
      "\n"
     ]
    }
   ],
   "source": [
    "# using binary relevance\n",
    "from skmultilearn.problem_transform import BinaryRelevance\n",
    "from sklearn.naive_bayes import GaussianNB\n",
    "\n",
    "# initialize binary relevance multi-label classifier\n",
    "# with a gaussian naive bayes base classifier\n",
    "classifier=BinaryRelevance(GaussianNB())\n",
    "\n",
    "# Training the classifier\n",
    "classifier.fit(x_train, y_train)\n",
    "# Predict\n",
    "predictions=classifier.predict(x_test)\n",
    "\n",
    "# accuracy\n",
    "print('Accuracy =',accuracy_score(y_test, predictions))\n",
    "print('\\n')"
   ]
  },
  {
   "cell_type": "markdown",
   "metadata": {},
   "source": [
    "#### Classifier Chains"
   ]
  },
  {
   "cell_type": "code",
   "execution_count": 33,
   "metadata": {},
   "outputs": [],
   "source": [
    "# using classifier chains\n",
    "from skmultilearn.problem_transform import ClassifierChain\n",
    "from sklearn.linear_model import LogisticRegression"
   ]
  },
  {
   "cell_type": "code",
   "execution_count": 34,
   "metadata": {},
   "outputs": [
    {
     "name": "stdout",
     "output_type": "stream",
     "text": [
      "Accuracy = 0.905\n",
      "\n",
      "\n"
     ]
    }
   ],
   "source": [
    "# initialize classifier chains multi-label classifier\n",
    "classifier=ClassifierChain(LogisticRegression())\n",
    "\n",
    "# training logistic regression model on train data\n",
    "classifier.fit(x_train, y_train)\n",
    "# predict\n",
    "predictions=classifier.predict(x_test)\n",
    "\n",
    "# accuracy\n",
    "print('Accuracy =',accuracy_score(y_test, predictions))\n",
    "print('\\n')"
   ]
  },
  {
   "cell_type": "markdown",
   "metadata": {},
   "source": [
    "#### Label Powerset"
   ]
  },
  {
   "cell_type": "code",
   "execution_count": 35,
   "metadata": {},
   "outputs": [],
   "source": [
    "# using label powerset\n",
    "from skmultilearn.problem_transform import LabelPowerset"
   ]
  },
  {
   "cell_type": "code",
   "execution_count": 38,
   "metadata": {},
   "outputs": [
    {
     "name": "stdout",
     "output_type": "stream",
     "text": [
      "Accuracy = 0.905\n",
      "\n",
      "\n"
     ]
    }
   ],
   "source": [
    "# initialize label powerset multi-label classifier\n",
    "classifier=LabelPowerset(LogisticRegression())\n",
    "\n",
    "# train\n",
    "classifier.fit(x_train, y_train)\n",
    "\n",
    "#predict\n",
    "predictions=classifier.predict(x_test)\n",
    "\n",
    "#accuracy\n",
    "print('Accuracy =',accuracy_score(y_test, predictions))\n",
    "print('\\n')"
   ]
  },
  {
   "cell_type": "markdown",
   "metadata": {},
   "source": [
    "#### Adapted Algorithm"
   ]
  },
  {
   "cell_type": "code",
   "execution_count": 40,
   "metadata": {},
   "outputs": [],
   "source": [
    "from skmultilearn.adapt import MLkNN\n",
    "from scipy.sparse import lil_matrix"
   ]
  },
  {
   "cell_type": "code",
   "execution_count": 41,
   "metadata": {},
   "outputs": [
    {
     "name": "stdout",
     "output_type": "stream",
     "text": [
      "Accuracy = 0.908333333333\n",
      "\n",
      "\n"
     ]
    }
   ],
   "source": [
    "classifier = MLkNN(k=10)\n",
    "\n",
    "# this classifier can throw up errors when handling sparse matrices\n",
    "x_train=lil_matrix(x_train).toarray()\n",
    "y_train=lil_matrix(y_train).toarray()\n",
    "x_test=lil_matrix(x_test).toarray()\n",
    "\n",
    "# train\n",
    "classifier.fit(x_train, y_train)\n",
    "\n",
    "# predict\n",
    "predictions=classifier.predict(x_test)\n",
    "\n",
    "# accuracy\n",
    "print('Accuracy =', accuracy_score(y_test, predictions))\n",
    "print('\\n')"
   ]
  }
 ],
 "metadata": {
  "kernelspec": {
   "display_name": "Python 3",
   "language": "python",
   "name": "python3"
  },
  "language_info": {
   "codemirror_mode": {
    "name": "ipython",
    "version": 3
   },
   "file_extension": ".py",
   "mimetype": "text/x-python",
   "name": "python",
   "nbconvert_exporter": "python",
   "pygments_lexer": "ipython3",
   "version": "3.6.2"
  }
 },
 "nbformat": 4,
 "nbformat_minor": 2
}
